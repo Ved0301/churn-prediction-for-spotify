{
 "cells": [
  {
   "cell_type": "code",
   "execution_count": 1,
   "id": "a0b424ed",
   "metadata": {
    "_cell_guid": "b1076dfc-b9ad-4769-8c92-a6c4dae69d19",
    "_uuid": "8f2839f25d086af736a60e9eeb907d3b93b6e0e5",
    "execution": {
     "iopub.execute_input": "2025-04-07T19:10:09.236194Z",
     "iopub.status.busy": "2025-04-07T19:10:09.235835Z",
     "iopub.status.idle": "2025-04-07T19:10:10.191889Z",
     "shell.execute_reply": "2025-04-07T19:10:10.190753Z"
    },
    "papermill": {
     "duration": 0.966865,
     "end_time": "2025-04-07T19:10:10.193655",
     "exception": false,
     "start_time": "2025-04-07T19:10:09.226790",
     "status": "completed"
    },
    "tags": []
   },
   "outputs": [
    {
     "name": "stdout",
     "output_type": "stream",
     "text": [
      "/kaggle/input/spotify-user-behavior-dataset/Spotify_data.xlsx\n"
     ]
    }
   ],
   "source": [
    "# This Python 3 environment comes with many helpful analytics libraries installed\n",
    "# It is defined by the kaggle/python Docker image: https://github.com/kaggle/docker-python\n",
    "# For example, here's several helpful packages to load\n",
    "\n",
    "import numpy as np # linear algebra\n",
    "import pandas as pd # data processing, CSV file I/O (e.g. pd.read_csv)\n",
    "\n",
    "# Input data files are available in the read-only \"../input/\" directory\n",
    "# For example, running this (by clicking run or pressing Shift+Enter) will list all files under the input directory\n",
    "\n",
    "import os\n",
    "for dirname, _, filenames in os.walk('/kaggle/input'):\n",
    "    for filename in filenames:\n",
    "        print(os.path.join(dirname, filename))\n",
    "\n",
    "# You can write up to 20GB to the current directory (/kaggle/working/) that gets preserved as output when you create a version using \"Save & Run All\" \n",
    "# You can also write temporary files to /kaggle/temp/, but they won't be saved outside of the current session"
   ]
  },
  {
   "cell_type": "code",
   "execution_count": 2,
   "id": "a65b8ad5",
   "metadata": {
    "execution": {
     "iopub.execute_input": "2025-04-07T19:10:10.209435Z",
     "iopub.status.busy": "2025-04-07T19:10:10.208972Z",
     "iopub.status.idle": "2025-04-07T19:10:12.620775Z",
     "shell.execute_reply": "2025-04-07T19:10:12.619590Z"
    },
    "papermill": {
     "duration": 2.422194,
     "end_time": "2025-04-07T19:10:12.623254",
     "exception": false,
     "start_time": "2025-04-07T19:10:10.201060",
     "status": "completed"
    },
    "tags": []
   },
   "outputs": [],
   "source": [
    "import pandas as pd\n",
    "import numpy as np\n",
    "from sklearn.preprocessing import LabelEncoder, StandardScaler\n",
    "from sklearn.feature_selection import SelectKBest, chi2, f_classif, mutual_info_classif\n",
    "from sklearn.feature_selection import RFE\n",
    "from sklearn.ensemble import RandomForestClassifier\n",
    "from sklearn.decomposition import PCA\n",
    "from sklearn.linear_model import Lasso\n",
    "from sklearn.feature_selection import SelectFromModel\n",
    "import seaborn as sns\n",
    "import matplotlib.pyplot as plt"
   ]
  },
  {
   "cell_type": "code",
   "execution_count": 3,
   "id": "e12c9f8d",
   "metadata": {
    "execution": {
     "iopub.execute_input": "2025-04-07T19:10:12.642038Z",
     "iopub.status.busy": "2025-04-07T19:10:12.641439Z",
     "iopub.status.idle": "2025-04-07T19:10:13.502678Z",
     "shell.execute_reply": "2025-04-07T19:10:13.501666Z"
    },
    "papermill": {
     "duration": 0.872035,
     "end_time": "2025-04-07T19:10:13.504625",
     "exception": false,
     "start_time": "2025-04-07T19:10:12.632590",
     "status": "completed"
    },
    "tags": []
   },
   "outputs": [],
   "source": [
    "df = pd.read_excel(\"/kaggle/input/spotify-user-behavior-dataset/Spotify_data.xlsx\")"
   ]
  },
  {
   "cell_type": "code",
   "execution_count": 4,
   "id": "03db387c",
   "metadata": {
    "execution": {
     "iopub.execute_input": "2025-04-07T19:10:13.519875Z",
     "iopub.status.busy": "2025-04-07T19:10:13.519358Z",
     "iopub.status.idle": "2025-04-07T19:10:13.551663Z",
     "shell.execute_reply": "2025-04-07T19:10:13.550659Z"
    },
    "papermill": {
     "duration": 0.041802,
     "end_time": "2025-04-07T19:10:13.553537",
     "exception": false,
     "start_time": "2025-04-07T19:10:13.511735",
     "status": "completed"
    },
    "tags": []
   },
   "outputs": [
    {
     "data": {
      "text/html": [
       "<div>\n",
       "<style scoped>\n",
       "    .dataframe tbody tr th:only-of-type {\n",
       "        vertical-align: middle;\n",
       "    }\n",
       "\n",
       "    .dataframe tbody tr th {\n",
       "        vertical-align: top;\n",
       "    }\n",
       "\n",
       "    .dataframe thead th {\n",
       "        text-align: right;\n",
       "    }\n",
       "</style>\n",
       "<table border=\"1\" class=\"dataframe\">\n",
       "  <thead>\n",
       "    <tr style=\"text-align: right;\">\n",
       "      <th></th>\n",
       "      <th>Age</th>\n",
       "      <th>Gender</th>\n",
       "      <th>spotify_usage_period</th>\n",
       "      <th>spotify_listening_device</th>\n",
       "      <th>spotify_subscription_plan</th>\n",
       "      <th>premium_sub_willingness</th>\n",
       "      <th>preffered_premium_plan</th>\n",
       "      <th>preferred_listening_content</th>\n",
       "      <th>fav_music_genre</th>\n",
       "      <th>music_time_slot</th>\n",
       "      <th>music_Influencial_mood</th>\n",
       "      <th>music_lis_frequency</th>\n",
       "      <th>music_expl_method</th>\n",
       "      <th>music_recc_rating</th>\n",
       "      <th>pod_lis_frequency</th>\n",
       "      <th>fav_pod_genre</th>\n",
       "      <th>preffered_pod_format</th>\n",
       "      <th>pod_host_preference</th>\n",
       "      <th>preffered_pod_duration</th>\n",
       "      <th>pod_variety_satisfaction</th>\n",
       "    </tr>\n",
       "  </thead>\n",
       "  <tbody>\n",
       "    <tr>\n",
       "      <th>0</th>\n",
       "      <td>20-35</td>\n",
       "      <td>Female</td>\n",
       "      <td>More than 2 years</td>\n",
       "      <td>Smart speakers or voice assistants</td>\n",
       "      <td>Free (ad-supported)</td>\n",
       "      <td>Yes</td>\n",
       "      <td>Family Plan-Rs 179/month</td>\n",
       "      <td>Podcast</td>\n",
       "      <td>Melody</td>\n",
       "      <td>Night</td>\n",
       "      <td>Sadness or melancholy</td>\n",
       "      <td>leisure time</td>\n",
       "      <td>Playlists</td>\n",
       "      <td>3</td>\n",
       "      <td>Daily</td>\n",
       "      <td>Comedy</td>\n",
       "      <td>Interview</td>\n",
       "      <td>Both</td>\n",
       "      <td>Both</td>\n",
       "      <td>Ok</td>\n",
       "    </tr>\n",
       "    <tr>\n",
       "      <th>1</th>\n",
       "      <td>12-20</td>\n",
       "      <td>Male</td>\n",
       "      <td>More than 2 years</td>\n",
       "      <td>Computer or laptop</td>\n",
       "      <td>Free (ad-supported)</td>\n",
       "      <td>Yes</td>\n",
       "      <td>Individual Plan- Rs 119/ month</td>\n",
       "      <td>Podcast</td>\n",
       "      <td>Rap</td>\n",
       "      <td>Afternoon</td>\n",
       "      <td>Social gatherings or parties</td>\n",
       "      <td>Workout session</td>\n",
       "      <td>Playlists</td>\n",
       "      <td>2</td>\n",
       "      <td>Several times a week</td>\n",
       "      <td>Comedy</td>\n",
       "      <td>Interview</td>\n",
       "      <td>Both</td>\n",
       "      <td>NaN</td>\n",
       "      <td>Satisfied</td>\n",
       "    </tr>\n",
       "    <tr>\n",
       "      <th>2</th>\n",
       "      <td>35-60</td>\n",
       "      <td>Others</td>\n",
       "      <td>6 months to 1 year</td>\n",
       "      <td>Smart speakers or voice assistants</td>\n",
       "      <td>Free (ad-supported)</td>\n",
       "      <td>Yes</td>\n",
       "      <td>Student Plan-Rs 59/month</td>\n",
       "      <td>Podcast</td>\n",
       "      <td>Pop</td>\n",
       "      <td>Night</td>\n",
       "      <td>Relaxation and stress relief</td>\n",
       "      <td>Study Hours, While Traveling</td>\n",
       "      <td>Playlists</td>\n",
       "      <td>4</td>\n",
       "      <td>Once a week</td>\n",
       "      <td>Sports</td>\n",
       "      <td>Interview</td>\n",
       "      <td>NaN</td>\n",
       "      <td>Both</td>\n",
       "      <td>Satisfied</td>\n",
       "    </tr>\n",
       "    <tr>\n",
       "      <th>3</th>\n",
       "      <td>20-35</td>\n",
       "      <td>Female</td>\n",
       "      <td>1 year to 2 years</td>\n",
       "      <td>Smartphone, Smart speakers or voice assistants</td>\n",
       "      <td>Free (ad-supported)</td>\n",
       "      <td>No</td>\n",
       "      <td>NaN</td>\n",
       "      <td>Music</td>\n",
       "      <td>Melody</td>\n",
       "      <td>Night</td>\n",
       "      <td>Relaxation and stress relief, Social gathering...</td>\n",
       "      <td>Office hours, Workout session, leisure time</td>\n",
       "      <td>recommendations, Playlists</td>\n",
       "      <td>4</td>\n",
       "      <td>Never</td>\n",
       "      <td>NaN</td>\n",
       "      <td>NaN</td>\n",
       "      <td>NaN</td>\n",
       "      <td>NaN</td>\n",
       "      <td>Ok</td>\n",
       "    </tr>\n",
       "    <tr>\n",
       "      <th>4</th>\n",
       "      <td>20-35</td>\n",
       "      <td>Female</td>\n",
       "      <td>1 year to 2 years</td>\n",
       "      <td>Smartphone</td>\n",
       "      <td>Free (ad-supported)</td>\n",
       "      <td>No</td>\n",
       "      <td>NaN</td>\n",
       "      <td>Music</td>\n",
       "      <td>Melody</td>\n",
       "      <td>Night</td>\n",
       "      <td>Relaxation and stress relief</td>\n",
       "      <td>leisure time</td>\n",
       "      <td>recommendations, Playlists</td>\n",
       "      <td>4</td>\n",
       "      <td>Rarely</td>\n",
       "      <td>Lifestyle and Health</td>\n",
       "      <td>Story telling</td>\n",
       "      <td>Well known individuals</td>\n",
       "      <td>Both</td>\n",
       "      <td>Ok</td>\n",
       "    </tr>\n",
       "  </tbody>\n",
       "</table>\n",
       "</div>"
      ],
      "text/plain": [
       "     Age  Gender spotify_usage_period  \\\n",
       "0  20-35  Female    More than 2 years   \n",
       "1  12-20    Male    More than 2 years   \n",
       "2  35-60  Others   6 months to 1 year   \n",
       "3  20-35  Female    1 year to 2 years   \n",
       "4  20-35  Female    1 year to 2 years   \n",
       "\n",
       "                         spotify_listening_device spotify_subscription_plan  \\\n",
       "0              Smart speakers or voice assistants       Free (ad-supported)   \n",
       "1                              Computer or laptop       Free (ad-supported)   \n",
       "2              Smart speakers or voice assistants       Free (ad-supported)   \n",
       "3  Smartphone, Smart speakers or voice assistants       Free (ad-supported)   \n",
       "4                                      Smartphone       Free (ad-supported)   \n",
       "\n",
       "  premium_sub_willingness          preffered_premium_plan  \\\n",
       "0                     Yes        Family Plan-Rs 179/month   \n",
       "1                     Yes  Individual Plan- Rs 119/ month   \n",
       "2                     Yes        Student Plan-Rs 59/month   \n",
       "3                      No                             NaN   \n",
       "4                      No                             NaN   \n",
       "\n",
       "  preferred_listening_content fav_music_genre music_time_slot  \\\n",
       "0                     Podcast          Melody           Night   \n",
       "1                     Podcast             Rap       Afternoon   \n",
       "2                     Podcast             Pop           Night   \n",
       "3                       Music          Melody           Night   \n",
       "4                       Music          Melody           Night   \n",
       "\n",
       "                              music_Influencial_mood  \\\n",
       "0                              Sadness or melancholy   \n",
       "1                       Social gatherings or parties   \n",
       "2                       Relaxation and stress relief   \n",
       "3  Relaxation and stress relief, Social gathering...   \n",
       "4                       Relaxation and stress relief   \n",
       "\n",
       "                           music_lis_frequency           music_expl_method  \\\n",
       "0                                 leisure time                   Playlists   \n",
       "1                              Workout session                   Playlists   \n",
       "2                 Study Hours, While Traveling                   Playlists   \n",
       "3  Office hours, Workout session, leisure time  recommendations, Playlists   \n",
       "4                                 leisure time  recommendations, Playlists   \n",
       "\n",
       "   music_recc_rating     pod_lis_frequency         fav_pod_genre  \\\n",
       "0                  3                 Daily                Comedy   \n",
       "1                  2  Several times a week                Comedy   \n",
       "2                  4           Once a week                Sports   \n",
       "3                  4                 Never                   NaN   \n",
       "4                  4                Rarely  Lifestyle and Health   \n",
       "\n",
       "  preffered_pod_format     pod_host_preference preffered_pod_duration  \\\n",
       "0            Interview                    Both                   Both   \n",
       "1            Interview                    Both                    NaN   \n",
       "2            Interview                     NaN                   Both   \n",
       "3                  NaN                     NaN                    NaN   \n",
       "4        Story telling  Well known individuals                   Both   \n",
       "\n",
       "  pod_variety_satisfaction  \n",
       "0                       Ok  \n",
       "1                Satisfied  \n",
       "2                Satisfied  \n",
       "3                       Ok  \n",
       "4                       Ok  "
      ]
     },
     "execution_count": 4,
     "metadata": {},
     "output_type": "execute_result"
    }
   ],
   "source": [
    "df.head()"
   ]
  },
  {
   "cell_type": "code",
   "execution_count": 5,
   "id": "9c6723b9",
   "metadata": {
    "execution": {
     "iopub.execute_input": "2025-04-07T19:10:13.569645Z",
     "iopub.status.busy": "2025-04-07T19:10:13.569263Z",
     "iopub.status.idle": "2025-04-07T19:10:13.574810Z",
     "shell.execute_reply": "2025-04-07T19:10:13.573870Z"
    },
    "papermill": {
     "duration": 0.015032,
     "end_time": "2025-04-07T19:10:13.576283",
     "exception": false,
     "start_time": "2025-04-07T19:10:13.561251",
     "status": "completed"
    },
    "tags": []
   },
   "outputs": [
    {
     "data": {
      "text/plain": [
       "(520, 20)"
      ]
     },
     "execution_count": 5,
     "metadata": {},
     "output_type": "execute_result"
    }
   ],
   "source": [
    "df.shape\n"
   ]
  },
  {
   "cell_type": "code",
   "execution_count": 6,
   "id": "c5a4013b",
   "metadata": {
    "execution": {
     "iopub.execute_input": "2025-04-07T19:10:13.592290Z",
     "iopub.status.busy": "2025-04-07T19:10:13.591951Z",
     "iopub.status.idle": "2025-04-07T19:10:13.597721Z",
     "shell.execute_reply": "2025-04-07T19:10:13.596715Z"
    },
    "papermill": {
     "duration": 0.015444,
     "end_time": "2025-04-07T19:10:13.599367",
     "exception": false,
     "start_time": "2025-04-07T19:10:13.583923",
     "status": "completed"
    },
    "tags": []
   },
   "outputs": [
    {
     "data": {
      "text/plain": [
       "Index(['Age', 'Gender', 'spotify_usage_period', 'spotify_listening_device',\n",
       "       'spotify_subscription_plan', 'premium_sub_willingness',\n",
       "       'preffered_premium_plan', 'preferred_listening_content',\n",
       "       'fav_music_genre', 'music_time_slot', 'music_Influencial_mood',\n",
       "       'music_lis_frequency', 'music_expl_method', 'music_recc_rating',\n",
       "       'pod_lis_frequency', 'fav_pod_genre', 'preffered_pod_format',\n",
       "       'pod_host_preference', 'preffered_pod_duration',\n",
       "       'pod_variety_satisfaction'],\n",
       "      dtype='object')"
      ]
     },
     "execution_count": 6,
     "metadata": {},
     "output_type": "execute_result"
    }
   ],
   "source": [
    "df.columns"
   ]
  },
  {
   "cell_type": "code",
   "execution_count": 7,
   "id": "3233471e",
   "metadata": {
    "execution": {
     "iopub.execute_input": "2025-04-07T19:10:13.615452Z",
     "iopub.status.busy": "2025-04-07T19:10:13.615100Z",
     "iopub.status.idle": "2025-04-07T19:10:13.640735Z",
     "shell.execute_reply": "2025-04-07T19:10:13.639535Z"
    },
    "papermill": {
     "duration": 0.035421,
     "end_time": "2025-04-07T19:10:13.642292",
     "exception": false,
     "start_time": "2025-04-07T19:10:13.606871",
     "status": "completed"
    },
    "tags": []
   },
   "outputs": [
    {
     "name": "stdout",
     "output_type": "stream",
     "text": [
      "<class 'pandas.core.frame.DataFrame'>\n",
      "RangeIndex: 520 entries, 0 to 519\n",
      "Data columns (total 20 columns):\n",
      " #   Column                       Non-Null Count  Dtype \n",
      "---  ------                       --------------  ----- \n",
      " 0   Age                          520 non-null    object\n",
      " 1   Gender                       520 non-null    object\n",
      " 2   spotify_usage_period         520 non-null    object\n",
      " 3   spotify_listening_device     520 non-null    object\n",
      " 4   spotify_subscription_plan    520 non-null    object\n",
      " 5   premium_sub_willingness      520 non-null    object\n",
      " 6   preffered_premium_plan       312 non-null    object\n",
      " 7   preferred_listening_content  520 non-null    object\n",
      " 8   fav_music_genre              520 non-null    object\n",
      " 9   music_time_slot              520 non-null    object\n",
      " 10  music_Influencial_mood       520 non-null    object\n",
      " 11  music_lis_frequency          520 non-null    object\n",
      " 12  music_expl_method            520 non-null    object\n",
      " 13  music_recc_rating            520 non-null    int64 \n",
      " 14  pod_lis_frequency            520 non-null    object\n",
      " 15  fav_pod_genre                372 non-null    object\n",
      " 16  preffered_pod_format         380 non-null    object\n",
      " 17  pod_host_preference          379 non-null    object\n",
      " 18  preffered_pod_duration       391 non-null    object\n",
      " 19  pod_variety_satisfaction     520 non-null    object\n",
      "dtypes: int64(1), object(19)\n",
      "memory usage: 81.4+ KB\n"
     ]
    }
   ],
   "source": [
    "df.info()"
   ]
  },
  {
   "cell_type": "code",
   "execution_count": 8,
   "id": "56ef156e",
   "metadata": {
    "execution": {
     "iopub.execute_input": "2025-04-07T19:10:13.658926Z",
     "iopub.status.busy": "2025-04-07T19:10:13.658412Z",
     "iopub.status.idle": "2025-04-07T19:10:13.667080Z",
     "shell.execute_reply": "2025-04-07T19:10:13.666197Z"
    },
    "papermill": {
     "duration": 0.018811,
     "end_time": "2025-04-07T19:10:13.668829",
     "exception": false,
     "start_time": "2025-04-07T19:10:13.650018",
     "status": "completed"
    },
    "tags": []
   },
   "outputs": [
    {
     "data": {
      "text/plain": [
       "Age                              0\n",
       "Gender                           0\n",
       "spotify_usage_period             0\n",
       "spotify_listening_device         0\n",
       "spotify_subscription_plan        0\n",
       "premium_sub_willingness          0\n",
       "preffered_premium_plan         208\n",
       "preferred_listening_content      0\n",
       "fav_music_genre                  0\n",
       "music_time_slot                  0\n",
       "music_Influencial_mood           0\n",
       "music_lis_frequency              0\n",
       "music_expl_method                0\n",
       "music_recc_rating                0\n",
       "pod_lis_frequency                0\n",
       "fav_pod_genre                  148\n",
       "preffered_pod_format           140\n",
       "pod_host_preference            141\n",
       "preffered_pod_duration         129\n",
       "pod_variety_satisfaction         0\n",
       "dtype: int64"
      ]
     },
     "execution_count": 8,
     "metadata": {},
     "output_type": "execute_result"
    }
   ],
   "source": [
    "df.isnull().sum()"
   ]
  },
  {
   "cell_type": "code",
   "execution_count": 9,
   "id": "a7213e53",
   "metadata": {
    "execution": {
     "iopub.execute_input": "2025-04-07T19:10:13.686424Z",
     "iopub.status.busy": "2025-04-07T19:10:13.686067Z",
     "iopub.status.idle": "2025-04-07T19:10:13.690190Z",
     "shell.execute_reply": "2025-04-07T19:10:13.689199Z"
    },
    "papermill": {
     "duration": 0.015067,
     "end_time": "2025-04-07T19:10:13.692076",
     "exception": false,
     "start_time": "2025-04-07T19:10:13.677009",
     "status": "completed"
    },
    "tags": []
   },
   "outputs": [],
   "source": [
    "file_path=(\"/kaggle/input/spotify-user-behavior-dataset/Spotify_data.xlsx\")"
   ]
  },
  {
   "cell_type": "code",
   "execution_count": 10,
   "id": "0fd40f12",
   "metadata": {
    "execution": {
     "iopub.execute_input": "2025-04-07T19:10:13.708634Z",
     "iopub.status.busy": "2025-04-07T19:10:13.708253Z",
     "iopub.status.idle": "2025-04-07T19:10:13.847444Z",
     "shell.execute_reply": "2025-04-07T19:10:13.846433Z"
    },
    "papermill": {
     "duration": 0.14948,
     "end_time": "2025-04-07T19:10:13.849396",
     "exception": false,
     "start_time": "2025-04-07T19:10:13.699916",
     "status": "completed"
    },
    "tags": []
   },
   "outputs": [],
   "source": [
    "df1 = pd.ExcelFile(file_path)\n",
    "data = df1.parse(\"Sheet1\")"
   ]
  },
  {
   "cell_type": "code",
   "execution_count": 11,
   "id": "2dd29a0f",
   "metadata": {
    "execution": {
     "iopub.execute_input": "2025-04-07T19:10:13.866163Z",
     "iopub.status.busy": "2025-04-07T19:10:13.865793Z",
     "iopub.status.idle": "2025-04-07T19:10:13.884386Z",
     "shell.execute_reply": "2025-04-07T19:10:13.883284Z"
    },
    "papermill": {
     "duration": 0.028855,
     "end_time": "2025-04-07T19:10:13.886250",
     "exception": false,
     "start_time": "2025-04-07T19:10:13.857395",
     "status": "completed"
    },
    "tags": []
   },
   "outputs": [],
   "source": [
    "data = data.dropna()\n",
    "\n",
    "# Encode categorical variables\n",
    "label_encoder = LabelEncoder()\n",
    "categorical_columns = data.select_dtypes(include=['object']).columns\n",
    "for col in categorical_columns:\n",
    "    data[col] = label_encoder.fit_transform(data[col])\n"
   ]
  },
  {
   "cell_type": "code",
   "execution_count": 12,
   "id": "6fc6bf57",
   "metadata": {
    "execution": {
     "iopub.execute_input": "2025-04-07T19:10:13.903383Z",
     "iopub.status.busy": "2025-04-07T19:10:13.903061Z",
     "iopub.status.idle": "2025-04-07T19:10:13.916853Z",
     "shell.execute_reply": "2025-04-07T19:10:13.915702Z"
    },
    "papermill": {
     "duration": 0.024633,
     "end_time": "2025-04-07T19:10:13.918629",
     "exception": false,
     "start_time": "2025-04-07T19:10:13.893996",
     "status": "completed"
    },
    "tags": []
   },
   "outputs": [
    {
     "data": {
      "text/html": [
       "<div>\n",
       "<style scoped>\n",
       "    .dataframe tbody tr th:only-of-type {\n",
       "        vertical-align: middle;\n",
       "    }\n",
       "\n",
       "    .dataframe tbody tr th {\n",
       "        vertical-align: top;\n",
       "    }\n",
       "\n",
       "    .dataframe thead th {\n",
       "        text-align: right;\n",
       "    }\n",
       "</style>\n",
       "<table border=\"1\" class=\"dataframe\">\n",
       "  <thead>\n",
       "    <tr style=\"text-align: right;\">\n",
       "      <th></th>\n",
       "      <th>Age</th>\n",
       "      <th>Gender</th>\n",
       "      <th>spotify_usage_period</th>\n",
       "      <th>spotify_listening_device</th>\n",
       "      <th>spotify_subscription_plan</th>\n",
       "      <th>premium_sub_willingness</th>\n",
       "      <th>preffered_premium_plan</th>\n",
       "      <th>preferred_listening_content</th>\n",
       "      <th>fav_music_genre</th>\n",
       "      <th>music_time_slot</th>\n",
       "      <th>music_Influencial_mood</th>\n",
       "      <th>music_lis_frequency</th>\n",
       "      <th>music_expl_method</th>\n",
       "      <th>music_recc_rating</th>\n",
       "      <th>pod_lis_frequency</th>\n",
       "      <th>fav_pod_genre</th>\n",
       "      <th>preffered_pod_format</th>\n",
       "      <th>pod_host_preference</th>\n",
       "      <th>preffered_pod_duration</th>\n",
       "      <th>pod_variety_satisfaction</th>\n",
       "    </tr>\n",
       "  </thead>\n",
       "  <tbody>\n",
       "    <tr>\n",
       "      <th>0</th>\n",
       "      <td>1</td>\n",
       "      <td>0</td>\n",
       "      <td>3</td>\n",
       "      <td>4</td>\n",
       "      <td>0</td>\n",
       "      <td>1</td>\n",
       "      <td>1</td>\n",
       "      <td>1</td>\n",
       "      <td>2</td>\n",
       "      <td>2</td>\n",
       "      <td>8</td>\n",
       "      <td>25</td>\n",
       "      <td>3</td>\n",
       "      <td>3</td>\n",
       "      <td>0</td>\n",
       "      <td>0</td>\n",
       "      <td>2</td>\n",
       "      <td>0</td>\n",
       "      <td>0</td>\n",
       "      <td>1</td>\n",
       "    </tr>\n",
       "    <tr>\n",
       "      <th>8</th>\n",
       "      <td>1</td>\n",
       "      <td>0</td>\n",
       "      <td>2</td>\n",
       "      <td>6</td>\n",
       "      <td>0</td>\n",
       "      <td>1</td>\n",
       "      <td>2</td>\n",
       "      <td>0</td>\n",
       "      <td>2</td>\n",
       "      <td>0</td>\n",
       "      <td>4</td>\n",
       "      <td>22</td>\n",
       "      <td>5</td>\n",
       "      <td>4</td>\n",
       "      <td>3</td>\n",
       "      <td>0</td>\n",
       "      <td>3</td>\n",
       "      <td>1</td>\n",
       "      <td>2</td>\n",
       "      <td>2</td>\n",
       "    </tr>\n",
       "    <tr>\n",
       "      <th>16</th>\n",
       "      <td>1</td>\n",
       "      <td>0</td>\n",
       "      <td>2</td>\n",
       "      <td>6</td>\n",
       "      <td>0</td>\n",
       "      <td>1</td>\n",
       "      <td>2</td>\n",
       "      <td>0</td>\n",
       "      <td>2</td>\n",
       "      <td>0</td>\n",
       "      <td>0</td>\n",
       "      <td>22</td>\n",
       "      <td>5</td>\n",
       "      <td>1</td>\n",
       "      <td>0</td>\n",
       "      <td>0</td>\n",
       "      <td>1</td>\n",
       "      <td>1</td>\n",
       "      <td>1</td>\n",
       "      <td>2</td>\n",
       "    </tr>\n",
       "    <tr>\n",
       "      <th>23</th>\n",
       "      <td>1</td>\n",
       "      <td>0</td>\n",
       "      <td>3</td>\n",
       "      <td>8</td>\n",
       "      <td>1</td>\n",
       "      <td>1</td>\n",
       "      <td>2</td>\n",
       "      <td>0</td>\n",
       "      <td>6</td>\n",
       "      <td>2</td>\n",
       "      <td>6</td>\n",
       "      <td>20</td>\n",
       "      <td>14</td>\n",
       "      <td>1</td>\n",
       "      <td>3</td>\n",
       "      <td>0</td>\n",
       "      <td>2</td>\n",
       "      <td>0</td>\n",
       "      <td>2</td>\n",
       "      <td>4</td>\n",
       "    </tr>\n",
       "    <tr>\n",
       "      <th>24</th>\n",
       "      <td>1</td>\n",
       "      <td>1</td>\n",
       "      <td>3</td>\n",
       "      <td>7</td>\n",
       "      <td>1</td>\n",
       "      <td>1</td>\n",
       "      <td>1</td>\n",
       "      <td>0</td>\n",
       "      <td>5</td>\n",
       "      <td>2</td>\n",
       "      <td>1</td>\n",
       "      <td>11</td>\n",
       "      <td>16</td>\n",
       "      <td>3</td>\n",
       "      <td>3</td>\n",
       "      <td>7</td>\n",
       "      <td>0</td>\n",
       "      <td>0</td>\n",
       "      <td>0</td>\n",
       "      <td>1</td>\n",
       "    </tr>\n",
       "  </tbody>\n",
       "</table>\n",
       "</div>"
      ],
      "text/plain": [
       "    Age  Gender  spotify_usage_period  spotify_listening_device  \\\n",
       "0     1       0                     3                         4   \n",
       "8     1       0                     2                         6   \n",
       "16    1       0                     2                         6   \n",
       "23    1       0                     3                         8   \n",
       "24    1       1                     3                         7   \n",
       "\n",
       "    spotify_subscription_plan  premium_sub_willingness  \\\n",
       "0                           0                        1   \n",
       "8                           0                        1   \n",
       "16                          0                        1   \n",
       "23                          1                        1   \n",
       "24                          1                        1   \n",
       "\n",
       "    preffered_premium_plan  preferred_listening_content  fav_music_genre  \\\n",
       "0                        1                            1                2   \n",
       "8                        2                            0                2   \n",
       "16                       2                            0                2   \n",
       "23                       2                            0                6   \n",
       "24                       1                            0                5   \n",
       "\n",
       "    music_time_slot  music_Influencial_mood  music_lis_frequency  \\\n",
       "0                 2                       8                   25   \n",
       "8                 0                       4                   22   \n",
       "16                0                       0                   22   \n",
       "23                2                       6                   20   \n",
       "24                2                       1                   11   \n",
       "\n",
       "    music_expl_method  music_recc_rating  pod_lis_frequency  fav_pod_genre  \\\n",
       "0                   3                  3                  0              0   \n",
       "8                   5                  4                  3              0   \n",
       "16                  5                  1                  0              0   \n",
       "23                 14                  1                  3              0   \n",
       "24                 16                  3                  3              7   \n",
       "\n",
       "    preffered_pod_format  pod_host_preference  preffered_pod_duration  \\\n",
       "0                      2                    0                       0   \n",
       "8                      3                    1                       2   \n",
       "16                     1                    1                       1   \n",
       "23                     2                    0                       2   \n",
       "24                     0                    0                       0   \n",
       "\n",
       "    pod_variety_satisfaction  \n",
       "0                          1  \n",
       "8                          2  \n",
       "16                         2  \n",
       "23                         4  \n",
       "24                         1  "
      ]
     },
     "execution_count": 12,
     "metadata": {},
     "output_type": "execute_result"
    }
   ],
   "source": [
    "data.head()"
   ]
  },
  {
   "cell_type": "code",
   "execution_count": 13,
   "id": "fc6ecc25",
   "metadata": {
    "execution": {
     "iopub.execute_input": "2025-04-07T19:10:13.935739Z",
     "iopub.status.busy": "2025-04-07T19:10:13.935377Z",
     "iopub.status.idle": "2025-04-07T19:10:14.593735Z",
     "shell.execute_reply": "2025-04-07T19:10:14.592440Z"
    },
    "papermill": {
     "duration": 0.670131,
     "end_time": "2025-04-07T19:10:14.596761",
     "exception": false,
     "start_time": "2025-04-07T19:10:13.926630",
     "status": "completed"
    },
    "tags": []
   },
   "outputs": [
    {
     "data": {
      "image/png": "[encoded data removed]",
      "text/plain": [
       "<Figure size 1200x800 with 2 Axes>"
      ]
     },
     "metadata": {},
     "output_type": "display_data"
    }
   ],
   "source": [
    "# Compute correlation matrix\n",
    "corr_matrix = data.corr()\n",
    "plt.figure(figsize=(12, 8))\n",
    "sns.heatmap(corr_matrix, cmap=\"coolwarm\", annot=False)\n",
    "plt.title(\"Feature Correlation Heatmap\")\n",
    "plt.show()\n"
   ]
  },
  {
   "cell_type": "code",
   "execution_count": 14,
   "id": "3b5e7898",
   "metadata": {
    "execution": {
     "iopub.execute_input": "2025-04-07T19:10:14.619884Z",
     "iopub.status.busy": "2025-04-07T19:10:14.619486Z",
     "iopub.status.idle": "2025-04-07T19:10:14.625994Z",
     "shell.execute_reply": "2025-04-07T19:10:14.624967Z"
    },
    "papermill": {
     "duration": 0.019687,
     "end_time": "2025-04-07T19:10:14.627776",
     "exception": false,
     "start_time": "2025-04-07T19:10:14.608089",
     "status": "completed"
    },
    "tags": []
   },
   "outputs": [],
   "source": [
    "target_variable = \"spotify_subscription_plan\"  # Update as necessary\n",
    "y = data[target_variable]\n",
    "X = data.drop(columns=[target_variable])"
   ]
  },
  {
   "cell_type": "code",
   "execution_count": 15,
   "id": "d8cd5ead",
   "metadata": {
    "execution": {
     "iopub.execute_input": "2025-04-07T19:10:14.650806Z",
     "iopub.status.busy": "2025-04-07T19:10:14.650212Z",
     "iopub.status.idle": "2025-04-07T19:10:14.655041Z",
     "shell.execute_reply": "2025-04-07T19:10:14.654139Z"
    },
    "papermill": {
     "duration": 0.018308,
     "end_time": "2025-04-07T19:10:14.656662",
     "exception": false,
     "start_time": "2025-04-07T19:10:14.638354",
     "status": "completed"
    },
    "tags": []
   },
   "outputs": [],
   "source": [
    "from sklearn.preprocessing import LabelEncoder, StandardScaler\n",
    "from sklearn.decomposition import PCA\n",
    "from sklearn.model_selection import train_test_split\n",
    "from sklearn.ensemble import RandomForestClassifier\n",
    "from sklearn.metrics import f1_score"
   ]
  },
  {
   "cell_type": "code",
   "execution_count": 16,
   "id": "429bc223",
   "metadata": {
    "execution": {
     "iopub.execute_input": "2025-04-07T19:10:14.680912Z",
     "iopub.status.busy": "2025-04-07T19:10:14.680542Z",
     "iopub.status.idle": "2025-04-07T19:10:14.687653Z",
     "shell.execute_reply": "2025-04-07T19:10:14.686720Z"
    },
    "papermill": {
     "duration": 0.020344,
     "end_time": "2025-04-07T19:10:14.689193",
     "exception": false,
     "start_time": "2025-04-07T19:10:14.668849",
     "status": "completed"
    },
    "tags": []
   },
   "outputs": [],
   "source": [
    "X_train, X_test, y_train, y_test = train_test_split(X, y, test_size=0.2, random_state=42)"
   ]
  },
  {
   "cell_type": "code",
   "execution_count": 17,
   "id": "354d3c7a",
   "metadata": {
    "execution": {
     "iopub.execute_input": "2025-04-07T19:10:14.712314Z",
     "iopub.status.busy": "2025-04-07T19:10:14.711967Z",
     "iopub.status.idle": "2025-04-07T19:10:14.883114Z",
     "shell.execute_reply": "2025-04-07T19:10:14.882054Z"
    },
    "papermill": {
     "duration": 0.184307,
     "end_time": "2025-04-07T19:10:14.884880",
     "exception": false,
     "start_time": "2025-04-07T19:10:14.700573",
     "status": "completed"
    },
    "tags": []
   },
   "outputs": [
    {
     "data": {
      "text/html": [
       "<style>#sk-container-id-1 {color: black;background-color: white;}#sk-container-id-1 pre{padding: 0;}#sk-container-id-1 div.sk-toggleable {background-color: white;}#sk-container-id-1 label.sk-toggleable__label {cursor: pointer;display: block;width: 100%;margin-bottom: 0;padding: 0.3em;box-sizing: border-box;text-align: center;}#sk-container-id-1 label.sk-toggleable__label-arrow:before {content: \"▸\";float: left;margin-right: 0.25em;color: #696969;}#sk-container-id-1 label.sk-toggleable__label-arrow:hover:before {color: black;}#sk-container-id-1 div.sk-estimator:hover label.sk-toggleable__label-arrow:before {color: black;}#sk-container-id-1 div.sk-toggleable__content {max-height: 0;max-width: 0;overflow: hidden;text-align: left;background-color: #f0f8ff;}#sk-container-id-1 div.sk-toggleable__content pre {margin: 0.2em;color: black;border-radius: 0.25em;background-color: #f0f8ff;}#sk-container-id-1 input.sk-toggleable__control:checked~div.sk-toggleable__content {max-height: 200px;max-width: 100%;overflow: auto;}#sk-container-id-1 input.sk-toggleable__control:checked~label.sk-toggleable__label-arrow:before {content: \"▾\";}#sk-container-id-1 div.sk-estimator input.sk-toggleable__control:checked~label.sk-toggleable__label {background-color: #d4ebff;}#sk-container-id-1 div.sk-label input.sk-toggleable__control:checked~label.sk-toggleable__label {background-color: #d4ebff;}#sk-container-id-1 input.sk-hidden--visually {border: 0;clip: rect(1px 1px 1px 1px);clip: rect(1px, 1px, 1px, 1px);height: 1px;margin: -1px;overflow: hidden;padding: 0;position: absolute;width: 1px;}#sk-container-id-1 div.sk-estimator {font-family: monospace;background-color: #f0f8ff;border: 1px dotted black;border-radius: 0.25em;box-sizing: border-box;margin-bottom: 0.5em;}#sk-container-id-1 div.sk-estimator:hover {background-color: #d4ebff;}#sk-container-id-1 div.sk-parallel-item::after {content: \"\";width: 100%;border-bottom: 1px solid gray;flex-grow: 1;}#sk-container-id-1 div.sk-label:hover label.sk-toggleable__label {background-color: #d4ebff;}#sk-container-id-1 div.sk-serial::before {content: \"\";position: absolute;border-left: 1px solid gray;box-sizing: border-box;top: 0;bottom: 0;left: 50%;z-index: 0;}#sk-container-id-1 div.sk-serial {display: flex;flex-direction: column;align-items: center;background-color: white;padding-right: 0.2em;padding-left: 0.2em;position: relative;}#sk-container-id-1 div.sk-item {position: relative;z-index: 1;}#sk-container-id-1 div.sk-parallel {display: flex;align-items: stretch;justify-content: center;background-color: white;position: relative;}#sk-container-id-1 div.sk-item::before, #sk-container-id-1 div.sk-parallel-item::before {content: \"\";position: absolute;border-left: 1px solid gray;box-sizing: border-box;top: 0;bottom: 0;left: 50%;z-index: -1;}#sk-container-id-1 div.sk-parallel-item {display: flex;flex-direction: column;z-index: 1;position: relative;background-color: white;}#sk-container-id-1 div.sk-parallel-item:first-child::after {align-self: flex-end;width: 50%;}#sk-container-id-1 div.sk-parallel-item:last-child::after {align-self: flex-start;width: 50%;}#sk-container-id-1 div.sk-parallel-item:only-child::after {width: 0;}#sk-container-id-1 div.sk-dashed-wrapped {border: 1px dashed gray;margin: 0 0.4em 0.5em 0.4em;box-sizing: border-box;padding-bottom: 0.4em;background-color: white;}#sk-container-id-1 div.sk-label label {font-family: monospace;font-weight: bold;display: inline-block;line-height: 1.2em;}#sk-container-id-1 div.sk-label-container {text-align: center;}#sk-container-id-1 div.sk-container {/* jupyter's `normalize.less` sets `[hidden] { display: none; }` but bootstrap.min.css set `[hidden] { display: none !important; }` so we also need the `!important` here to be able to override the default hidden behavior on the sphinx rendered scikit-learn.org. See: https://github.com/scikit-learn/scikit-learn/issues/21755 */display: inline-block !important;position: relative;}#sk-container-id-1 div.sk-text-repr-fallback {display: none;}</style><div id=\"sk-container-id-1\" class=\"sk-top-container\"><div class=\"sk-text-repr-fallback\"><pre>RandomForestClassifier(random_state=42)</pre><b>In a Jupyter environment, please rerun this cell to show the HTML representation or trust the notebook. <br />On GitHub, the HTML representation is unable to render, please try loading this page with nbviewer.org.</b></div><div class=\"sk-container\" hidden><div class=\"sk-item\"><div class=\"sk-estimator sk-toggleable\"><input class=\"sk-toggleable__control sk-hidden--visually\" id=\"sk-estimator-id-1\" type=\"checkbox\" checked><label for=\"sk-estimator-id-1\" class=\"sk-toggleable__label sk-toggleable__label-arrow\">RandomForestClassifier</label><div class=\"sk-toggleable__content\"><pre>RandomForestClassifier(random_state=42)</pre></div></div></div></div></div>"
      ],
      "text/plain": [
       "RandomForestClassifier(random_state=42)"
      ]
     },
     "execution_count": 17,
     "metadata": {},
     "output_type": "execute_result"
    }
   ],
   "source": [
    "rf = RandomForestClassifier(n_estimators=100, random_state=42)\n",
    "rf.fit(X_train, y_train)"
   ]
  },
  {
   "cell_type": "code",
   "execution_count": 18,
   "id": "2d45fca5",
   "metadata": {
    "execution": {
     "iopub.execute_input": "2025-04-07T19:10:14.908857Z",
     "iopub.status.busy": "2025-04-07T19:10:14.908455Z",
     "iopub.status.idle": "2025-04-07T19:10:14.923728Z",
     "shell.execute_reply": "2025-04-07T19:10:14.922585Z"
    },
    "papermill": {
     "duration": 0.029126,
     "end_time": "2025-04-07T19:10:14.925392",
     "exception": false,
     "start_time": "2025-04-07T19:10:14.896266",
     "status": "completed"
    },
    "tags": []
   },
   "outputs": [
    {
     "name": "stdout",
     "output_type": "stream",
     "text": [
      "['music_lis_frequency', 'spotify_listening_device', 'premium_sub_willingness', 'music_expl_method', 'music_Influencial_mood', 'preffered_premium_plan', 'pod_variety_satisfaction', 'pod_lis_frequency', 'fav_pod_genre', 'music_recc_rating', 'pod_host_preference', 'fav_music_genre', 'spotify_usage_period', 'preffered_pod_duration', 'Age', 'preffered_pod_format', 'Gender', 'music_time_slot']\n"
     ]
    }
   ],
   "source": [
    "feature_importances = pd.Series(rf.feature_importances_, index=X.columns).sort_values(ascending=False)\n",
    "\n",
    "# Select top features (based on threshold)\n",
    "selected_features = feature_importances[feature_importances > 0.023].index.tolist()\n",
    "print(selected_features)\n",
    "\n",
    "# Reduce dataset to selected features\n",
    "X_selected = X[selected_features]\n"
   ]
  },
  {
   "cell_type": "code",
   "execution_count": 19,
   "id": "99259ab7",
   "metadata": {
    "execution": {
     "iopub.execute_input": "2025-04-07T19:10:14.948484Z",
     "iopub.status.busy": "2025-04-07T19:10:14.948102Z",
     "iopub.status.idle": "2025-04-07T19:10:14.961139Z",
     "shell.execute_reply": "2025-04-07T19:10:14.960086Z"
    },
    "papermill": {
     "duration": 0.026676,
     "end_time": "2025-04-07T19:10:14.963037",
     "exception": false,
     "start_time": "2025-04-07T19:10:14.936361",
     "status": "completed"
    },
    "tags": []
   },
   "outputs": [
    {
     "data": {
      "text/html": [
       "<div>\n",
       "<style scoped>\n",
       "    .dataframe tbody tr th:only-of-type {\n",
       "        vertical-align: middle;\n",
       "    }\n",
       "\n",
       "    .dataframe tbody tr th {\n",
       "        vertical-align: top;\n",
       "    }\n",
       "\n",
       "    .dataframe thead th {\n",
       "        text-align: right;\n",
       "    }\n",
       "</style>\n",
       "<table border=\"1\" class=\"dataframe\">\n",
       "  <thead>\n",
       "    <tr style=\"text-align: right;\">\n",
       "      <th></th>\n",
       "      <th>music_lis_frequency</th>\n",
       "      <th>spotify_listening_device</th>\n",
       "      <th>premium_sub_willingness</th>\n",
       "      <th>music_expl_method</th>\n",
       "      <th>music_Influencial_mood</th>\n",
       "      <th>preffered_premium_plan</th>\n",
       "      <th>pod_variety_satisfaction</th>\n",
       "      <th>pod_lis_frequency</th>\n",
       "      <th>fav_pod_genre</th>\n",
       "      <th>music_recc_rating</th>\n",
       "      <th>pod_host_preference</th>\n",
       "      <th>fav_music_genre</th>\n",
       "      <th>spotify_usage_period</th>\n",
       "      <th>preffered_pod_duration</th>\n",
       "      <th>Age</th>\n",
       "      <th>preffered_pod_format</th>\n",
       "      <th>Gender</th>\n",
       "      <th>music_time_slot</th>\n",
       "    </tr>\n",
       "  </thead>\n",
       "  <tbody>\n",
       "    <tr>\n",
       "      <th>0</th>\n",
       "      <td>25</td>\n",
       "      <td>4</td>\n",
       "      <td>1</td>\n",
       "      <td>3</td>\n",
       "      <td>8</td>\n",
       "      <td>1</td>\n",
       "      <td>1</td>\n",
       "      <td>0</td>\n",
       "      <td>0</td>\n",
       "      <td>3</td>\n",
       "      <td>0</td>\n",
       "      <td>2</td>\n",
       "      <td>3</td>\n",
       "      <td>0</td>\n",
       "      <td>1</td>\n",
       "      <td>2</td>\n",
       "      <td>0</td>\n",
       "      <td>2</td>\n",
       "    </tr>\n",
       "    <tr>\n",
       "      <th>8</th>\n",
       "      <td>22</td>\n",
       "      <td>6</td>\n",
       "      <td>1</td>\n",
       "      <td>5</td>\n",
       "      <td>4</td>\n",
       "      <td>2</td>\n",
       "      <td>2</td>\n",
       "      <td>3</td>\n",
       "      <td>0</td>\n",
       "      <td>4</td>\n",
       "      <td>1</td>\n",
       "      <td>2</td>\n",
       "      <td>2</td>\n",
       "      <td>2</td>\n",
       "      <td>1</td>\n",
       "      <td>3</td>\n",
       "      <td>0</td>\n",
       "      <td>0</td>\n",
       "    </tr>\n",
       "    <tr>\n",
       "      <th>16</th>\n",
       "      <td>22</td>\n",
       "      <td>6</td>\n",
       "      <td>1</td>\n",
       "      <td>5</td>\n",
       "      <td>0</td>\n",
       "      <td>2</td>\n",
       "      <td>2</td>\n",
       "      <td>0</td>\n",
       "      <td>0</td>\n",
       "      <td>1</td>\n",
       "      <td>1</td>\n",
       "      <td>2</td>\n",
       "      <td>2</td>\n",
       "      <td>1</td>\n",
       "      <td>1</td>\n",
       "      <td>1</td>\n",
       "      <td>0</td>\n",
       "      <td>0</td>\n",
       "    </tr>\n",
       "    <tr>\n",
       "      <th>23</th>\n",
       "      <td>20</td>\n",
       "      <td>8</td>\n",
       "      <td>1</td>\n",
       "      <td>14</td>\n",
       "      <td>6</td>\n",
       "      <td>2</td>\n",
       "      <td>4</td>\n",
       "      <td>3</td>\n",
       "      <td>0</td>\n",
       "      <td>1</td>\n",
       "      <td>0</td>\n",
       "      <td>6</td>\n",
       "      <td>3</td>\n",
       "      <td>2</td>\n",
       "      <td>1</td>\n",
       "      <td>2</td>\n",
       "      <td>0</td>\n",
       "      <td>2</td>\n",
       "    </tr>\n",
       "    <tr>\n",
       "      <th>24</th>\n",
       "      <td>11</td>\n",
       "      <td>7</td>\n",
       "      <td>1</td>\n",
       "      <td>16</td>\n",
       "      <td>1</td>\n",
       "      <td>1</td>\n",
       "      <td>1</td>\n",
       "      <td>3</td>\n",
       "      <td>7</td>\n",
       "      <td>3</td>\n",
       "      <td>0</td>\n",
       "      <td>5</td>\n",
       "      <td>3</td>\n",
       "      <td>0</td>\n",
       "      <td>1</td>\n",
       "      <td>0</td>\n",
       "      <td>1</td>\n",
       "      <td>2</td>\n",
       "    </tr>\n",
       "  </tbody>\n",
       "</table>\n",
       "</div>"
      ],
      "text/plain": [
       "    music_lis_frequency  spotify_listening_device  premium_sub_willingness  \\\n",
       "0                    25                         4                        1   \n",
       "8                    22                         6                        1   \n",
       "16                   22                         6                        1   \n",
       "23                   20                         8                        1   \n",
       "24                   11                         7                        1   \n",
       "\n",
       "    music_expl_method  music_Influencial_mood  preffered_premium_plan  \\\n",
       "0                   3                       8                       1   \n",
       "8                   5                       4                       2   \n",
       "16                  5                       0                       2   \n",
       "23                 14                       6                       2   \n",
       "24                 16                       1                       1   \n",
       "\n",
       "    pod_variety_satisfaction  pod_lis_frequency  fav_pod_genre  \\\n",
       "0                          1                  0              0   \n",
       "8                          2                  3              0   \n",
       "16                         2                  0              0   \n",
       "23                         4                  3              0   \n",
       "24                         1                  3              7   \n",
       "\n",
       "    music_recc_rating  pod_host_preference  fav_music_genre  \\\n",
       "0                   3                    0                2   \n",
       "8                   4                    1                2   \n",
       "16                  1                    1                2   \n",
       "23                  1                    0                6   \n",
       "24                  3                    0                5   \n",
       "\n",
       "    spotify_usage_period  preffered_pod_duration  Age  preffered_pod_format  \\\n",
       "0                      3                       0    1                     2   \n",
       "8                      2                       2    1                     3   \n",
       "16                     2                       1    1                     1   \n",
       "23                     3                       2    1                     2   \n",
       "24                     3                       0    1                     0   \n",
       "\n",
       "    Gender  music_time_slot  \n",
       "0        0                2  \n",
       "8        0                0  \n",
       "16       0                0  \n",
       "23       0                2  \n",
       "24       1                2  "
      ]
     },
     "execution_count": 19,
     "metadata": {},
     "output_type": "execute_result"
    }
   ],
   "source": [
    "X_selected.head()"
   ]
  },
  {
   "cell_type": "code",
   "execution_count": 20,
   "id": "a916b6c6",
   "metadata": {
    "execution": {
     "iopub.execute_input": "2025-04-07T19:10:14.986824Z",
     "iopub.status.busy": "2025-04-07T19:10:14.986430Z",
     "iopub.status.idle": "2025-04-07T19:10:14.995272Z",
     "shell.execute_reply": "2025-04-07T19:10:14.994250Z"
    },
    "papermill": {
     "duration": 0.022702,
     "end_time": "2025-04-07T19:10:14.997047",
     "exception": false,
     "start_time": "2025-04-07T19:10:14.974345",
     "status": "completed"
    },
    "tags": []
   },
   "outputs": [],
   "source": [
    "# Standardizing the dataset before PCA\n",
    "scaler = StandardScaler()\n",
    "X_scaled = scaler.fit_transform(X_selected)"
   ]
  },
  {
   "cell_type": "code",
   "execution_count": 21,
   "id": "67439041",
   "metadata": {
    "execution": {
     "iopub.execute_input": "2025-04-07T19:10:15.020708Z",
     "iopub.status.busy": "2025-04-07T19:10:15.020315Z",
     "iopub.status.idle": "2025-04-07T19:10:15.059020Z",
     "shell.execute_reply": "2025-04-07T19:10:15.057886Z"
    },
    "papermill": {
     "duration": 0.052586,
     "end_time": "2025-04-07T19:10:15.060856",
     "exception": false,
     "start_time": "2025-04-07T19:10:15.008270",
     "status": "completed"
    },
    "tags": []
   },
   "outputs": [],
   "source": [
    "pca = PCA(n_components=0.95)\n",
    "X_pca = pca.fit_transform(X_scaled)"
   ]
  },
  {
   "cell_type": "code",
   "execution_count": 22,
   "id": "d047e268",
   "metadata": {
    "execution": {
     "iopub.execute_input": "2025-04-07T19:10:15.084612Z",
     "iopub.status.busy": "2025-04-07T19:10:15.084238Z",
     "iopub.status.idle": "2025-04-07T19:10:15.271048Z",
     "shell.execute_reply": "2025-04-07T19:10:15.270011Z"
    },
    "papermill": {
     "duration": 0.200475,
     "end_time": "2025-04-07T19:10:15.272749",
     "exception": false,
     "start_time": "2025-04-07T19:10:15.072274",
     "status": "completed"
    },
    "tags": []
   },
   "outputs": [
    {
     "data": {
      "text/html": [
       "<style>#sk-container-id-2 {color: black;background-color: white;}#sk-container-id-2 pre{padding: 0;}#sk-container-id-2 div.sk-toggleable {background-color: white;}#sk-container-id-2 label.sk-toggleable__label {cursor: pointer;display: block;width: 100%;margin-bottom: 0;padding: 0.3em;box-sizing: border-box;text-align: center;}#sk-container-id-2 label.sk-toggleable__label-arrow:before {content: \"▸\";float: left;margin-right: 0.25em;color: #696969;}#sk-container-id-2 label.sk-toggleable__label-arrow:hover:before {color: black;}#sk-container-id-2 div.sk-estimator:hover label.sk-toggleable__label-arrow:before {color: black;}#sk-container-id-2 div.sk-toggleable__content {max-height: 0;max-width: 0;overflow: hidden;text-align: left;background-color: #f0f8ff;}#sk-container-id-2 div.sk-toggleable__content pre {margin: 0.2em;color: black;border-radius: 0.25em;background-color: #f0f8ff;}#sk-container-id-2 input.sk-toggleable__control:checked~div.sk-toggleable__content {max-height: 200px;max-width: 100%;overflow: auto;}#sk-container-id-2 input.sk-toggleable__control:checked~label.sk-toggleable__label-arrow:before {content: \"▾\";}#sk-container-id-2 div.sk-estimator input.sk-toggleable__control:checked~label.sk-toggleable__label {background-color: #d4ebff;}#sk-container-id-2 div.sk-label input.sk-toggleable__control:checked~label.sk-toggleable__label {background-color: #d4ebff;}#sk-container-id-2 input.sk-hidden--visually {border: 0;clip: rect(1px 1px 1px 1px);clip: rect(1px, 1px, 1px, 1px);height: 1px;margin: -1px;overflow: hidden;padding: 0;position: absolute;width: 1px;}#sk-container-id-2 div.sk-estimator {font-family: monospace;background-color: #f0f8ff;border: 1px dotted black;border-radius: 0.25em;box-sizing: border-box;margin-bottom: 0.5em;}#sk-container-id-2 div.sk-estimator:hover {background-color: #d4ebff;}#sk-container-id-2 div.sk-parallel-item::after {content: \"\";width: 100%;border-bottom: 1px solid gray;flex-grow: 1;}#sk-container-id-2 div.sk-label:hover label.sk-toggleable__label {background-color: #d4ebff;}#sk-container-id-2 div.sk-serial::before {content: \"\";position: absolute;border-left: 1px solid gray;box-sizing: border-box;top: 0;bottom: 0;left: 50%;z-index: 0;}#sk-container-id-2 div.sk-serial {display: flex;flex-direction: column;align-items: center;background-color: white;padding-right: 0.2em;padding-left: 0.2em;position: relative;}#sk-container-id-2 div.sk-item {position: relative;z-index: 1;}#sk-container-id-2 div.sk-parallel {display: flex;align-items: stretch;justify-content: center;background-color: white;position: relative;}#sk-container-id-2 div.sk-item::before, #sk-container-id-2 div.sk-parallel-item::before {content: \"\";position: absolute;border-left: 1px solid gray;box-sizing: border-box;top: 0;bottom: 0;left: 50%;z-index: -1;}#sk-container-id-2 div.sk-parallel-item {display: flex;flex-direction: column;z-index: 1;position: relative;background-color: white;}#sk-container-id-2 div.sk-parallel-item:first-child::after {align-self: flex-end;width: 50%;}#sk-container-id-2 div.sk-parallel-item:last-child::after {align-self: flex-start;width: 50%;}#sk-container-id-2 div.sk-parallel-item:only-child::after {width: 0;}#sk-container-id-2 div.sk-dashed-wrapped {border: 1px dashed gray;margin: 0 0.4em 0.5em 0.4em;box-sizing: border-box;padding-bottom: 0.4em;background-color: white;}#sk-container-id-2 div.sk-label label {font-family: monospace;font-weight: bold;display: inline-block;line-height: 1.2em;}#sk-container-id-2 div.sk-label-container {text-align: center;}#sk-container-id-2 div.sk-container {/* jupyter's `normalize.less` sets `[hidden] { display: none; }` but bootstrap.min.css set `[hidden] { display: none !important; }` so we also need the `!important` here to be able to override the default hidden behavior on the sphinx rendered scikit-learn.org. See: https://github.com/scikit-learn/scikit-learn/issues/21755 */display: inline-block !important;position: relative;}#sk-container-id-2 div.sk-text-repr-fallback {display: none;}</style><div id=\"sk-container-id-2\" class=\"sk-top-container\"><div class=\"sk-text-repr-fallback\"><pre>RandomForestClassifier(random_state=42)</pre><b>In a Jupyter environment, please rerun this cell to show the HTML representation or trust the notebook. <br />On GitHub, the HTML representation is unable to render, please try loading this page with nbviewer.org.</b></div><div class=\"sk-container\" hidden><div class=\"sk-item\"><div class=\"sk-estimator sk-toggleable\"><input class=\"sk-toggleable__control sk-hidden--visually\" id=\"sk-estimator-id-2\" type=\"checkbox\" checked><label for=\"sk-estimator-id-2\" class=\"sk-toggleable__label sk-toggleable__label-arrow\">RandomForestClassifier</label><div class=\"sk-toggleable__content\"><pre>RandomForestClassifier(random_state=42)</pre></div></div></div></div></div>"
      ],
      "text/plain": [
       "RandomForestClassifier(random_state=42)"
      ]
     },
     "execution_count": 22,
     "metadata": {},
     "output_type": "execute_result"
    }
   ],
   "source": [
    "X_train_pca, X_test_pca, y_train, y_test = train_test_split(X_pca, y, test_size=0.2, random_state=42)\n",
    "\n",
    "# Train model on PCA-transformed data\n",
    "rf_pca = RandomForestClassifier(n_estimators=100, random_state=42)\n",
    "rf_pca.fit(X_train_pca, y_train)\n"
   ]
  },
  {
   "cell_type": "code",
   "execution_count": 23,
   "id": "6db8163c",
   "metadata": {
    "execution": {
     "iopub.execute_input": "2025-04-07T19:10:15.296871Z",
     "iopub.status.busy": "2025-04-07T19:10:15.296486Z",
     "iopub.status.idle": "2025-04-07T19:10:15.312249Z",
     "shell.execute_reply": "2025-04-07T19:10:15.311065Z"
    },
    "papermill": {
     "duration": 0.02973,
     "end_time": "2025-04-07T19:10:15.313984",
     "exception": false,
     "start_time": "2025-04-07T19:10:15.284254",
     "status": "completed"
    },
    "tags": []
   },
   "outputs": [
    {
     "name": "stdout",
     "output_type": "stream",
     "text": [
      "Selected Features: ['music_lis_frequency', 'spotify_listening_device', 'premium_sub_willingness', 'music_expl_method', 'music_Influencial_mood', 'preffered_premium_plan', 'pod_variety_satisfaction', 'pod_lis_frequency', 'fav_pod_genre', 'music_recc_rating', 'pod_host_preference', 'fav_music_genre', 'spotify_usage_period', 'preffered_pod_duration', 'Age', 'preffered_pod_format', 'Gender', 'music_time_slot']\n"
     ]
    }
   ],
   "source": [
    "y_pred = rf_pca.predict(X_test_pca)\n",
    "f1 = f1_score(y_test, y_pred, average='weighted')\n",
    "\n",
    "# Display results\n",
    "print(f\"Selected Features: {selected_features}\")\n",
    "# print(f\"F1 Score: {f1:.4f}\")"
   ]
  },
  {
   "cell_type": "code",
   "execution_count": 24,
   "id": "d9d2a3ba",
   "metadata": {
    "execution": {
     "iopub.execute_input": "2025-04-07T19:10:15.338484Z",
     "iopub.status.busy": "2025-04-07T19:10:15.338100Z",
     "iopub.status.idle": "2025-04-07T19:10:15.342619Z",
     "shell.execute_reply": "2025-04-07T19:10:15.341585Z"
    },
    "papermill": {
     "duration": 0.018694,
     "end_time": "2025-04-07T19:10:15.344241",
     "exception": false,
     "start_time": "2025-04-07T19:10:15.325547",
     "status": "completed"
    },
    "tags": []
   },
   "outputs": [],
   "source": [
    "from sklearn.preprocessing import LabelEncoder, StandardScaler\n",
    "from sklearn.ensemble import RandomForestClassifier, GradientBoostingClassifier\n",
    "from sklearn.linear_model import LogisticRegression\n",
    "from sklearn.metrics import accuracy_score, precision_score, recall_score, f1_score, confusion_matrix, roc_auc_score\n"
   ]
  },
  {
   "cell_type": "code",
   "execution_count": 25,
   "id": "36bfae3f",
   "metadata": {
    "execution": {
     "iopub.execute_input": "2025-04-07T19:10:15.368852Z",
     "iopub.status.busy": "2025-04-07T19:10:15.368441Z",
     "iopub.status.idle": "2025-04-07T19:10:15.373107Z",
     "shell.execute_reply": "2025-04-07T19:10:15.372044Z"
    },
    "papermill": {
     "duration": 0.018616,
     "end_time": "2025-04-07T19:10:15.374729",
     "exception": false,
     "start_time": "2025-04-07T19:10:15.356113",
     "status": "completed"
    },
    "tags": []
   },
   "outputs": [],
   "source": [
    "# Models\n",
    "models = {\n",
    "    \"Logistic Regression\": LogisticRegression(),\n",
    "    \"Random Forest\": RandomForestClassifier(n_estimators=100, random_state=42),\n",
    "    \"Gradient Boosting\": GradientBoostingClassifier(n_estimators=100, random_state=42)\n",
    "}"
   ]
  },
  {
   "cell_type": "code",
   "execution_count": 26,
   "id": "0c98db70",
   "metadata": {
    "execution": {
     "iopub.execute_input": "2025-04-07T19:10:15.399127Z",
     "iopub.status.busy": "2025-04-07T19:10:15.398739Z",
     "iopub.status.idle": "2025-04-07T19:10:15.404127Z",
     "shell.execute_reply": "2025-04-07T19:10:15.403019Z"
    },
    "papermill": {
     "duration": 0.019673,
     "end_time": "2025-04-07T19:10:15.405948",
     "exception": false,
     "start_time": "2025-04-07T19:10:15.386275",
     "status": "completed"
    },
    "tags": []
   },
   "outputs": [],
   "source": [
    "def evaluate_model(model, X_train, X_test, y_train, y_test):\n",
    "    model.fit(X_train, y_train)\n",
    "    y_pred = model.predict(X_test)\n",
    "    return {\n",
    "        \"Accuracy\": accuracy_score(y_test, y_pred),\n",
    "        \"precision\":precision_score(y_test, y_pred),\n",
    "         \"recall\":recall_score(y_test, y_pred),\n",
    "        \"f1 score\":f1_score(y_test, y_pred),\n",
    "        \"auc\":roc_auc_score(y_test, y_pred),\n",
    "        \n",
    "        \n",
    "        \"Confusion Matrix\": confusion_matrix(y_test, y_pred)\n",
    "    }\n",
    "\n"
   ]
  },
  {
   "cell_type": "code",
   "execution_count": 27,
   "id": "8bf8561d",
   "metadata": {
    "execution": {
     "iopub.execute_input": "2025-04-07T19:10:15.430175Z",
     "iopub.status.busy": "2025-04-07T19:10:15.429825Z",
     "iopub.status.idle": "2025-04-07T19:10:15.757328Z",
     "shell.execute_reply": "2025-04-07T19:10:15.756054Z"
    },
    "papermill": {
     "duration": 0.341614,
     "end_time": "2025-04-07T19:10:15.759144",
     "exception": false,
     "start_time": "2025-04-07T19:10:15.417530",
     "status": "completed"
    },
    "tags": []
   },
   "outputs": [
    {
     "name": "stdout",
     "output_type": "stream",
     "text": [
      "Logistic Regression Results: {'Accuracy': 0.5777777777777777, 'precision': 0.3, 'recall': 0.2, 'f1 score': 0.24, 'auc': 0.4833333333333333, 'Confusion Matrix': array([[23,  7],\n",
      "       [12,  3]])}\n"
     ]
    },
    {
     "name": "stderr",
     "output_type": "stream",
     "text": [
      "/usr/local/lib/python3.10/dist-packages/sklearn/linear_model/_logistic.py:458: ConvergenceWarning: lbfgs failed to converge (status=1):\n",
      "STOP: TOTAL NO. of ITERATIONS REACHED LIMIT.\n",
      "\n",
      "Increase the number of iterations (max_iter) or scale the data as shown in:\n",
      "    https://scikit-learn.org/stable/modules/preprocessing.html\n",
      "Please also refer to the documentation for alternative solver options:\n",
      "    https://scikit-learn.org/stable/modules/linear_model.html#logistic-regression\n",
      "  n_iter_i = _check_optimize_result(\n"
     ]
    },
    {
     "name": "stdout",
     "output_type": "stream",
     "text": [
      "Random Forest Results: {'Accuracy': 0.6666666666666666, 'precision': 0.5, 'recall': 0.2, 'f1 score': 0.28571428571428575, 'auc': 0.55, 'Confusion Matrix': array([[27,  3],\n",
      "       [12,  3]])}\n",
      "Gradient Boosting Results: {'Accuracy': 0.7111111111111111, 'precision': 0.5833333333333334, 'recall': 0.4666666666666667, 'f1 score': 0.5185185185185186, 'auc': 0.65, 'Confusion Matrix': array([[25,  5],\n",
      "       [ 8,  7]])}\n"
     ]
    }
   ],
   "source": [
    "# Evaluate all models\n",
    "results = {}\n",
    "for name, model in models.items():\n",
    "    results[name] = evaluate_model(model, X_train, X_test, y_train, y_test)\n",
    "    print(f\"{name} Results:\", results[name])\n"
   ]
  },
  {
   "cell_type": "code",
   "execution_count": 28,
   "id": "1ad02461",
   "metadata": {
    "execution": {
     "iopub.execute_input": "2025-04-07T19:10:15.783608Z",
     "iopub.status.busy": "2025-04-07T19:10:15.783215Z",
     "iopub.status.idle": "2025-04-07T19:10:16.001595Z",
     "shell.execute_reply": "2025-04-07T19:10:16.000548Z"
    },
    "papermill": {
     "duration": 0.232472,
     "end_time": "2025-04-07T19:10:16.003327",
     "exception": false,
     "start_time": "2025-04-07T19:10:15.770855",
     "status": "completed"
    },
    "tags": []
   },
   "outputs": [
    {
     "data": {
      "image/png": "[encoded data removed]",
      "text/plain": [
       "<Figure size 640x480 with 2 Axes>"
      ]
     },
     "metadata": {},
     "output_type": "display_data"
    }
   ],
   "source": [
    "# Visualizing Confusion Matrix for Best Model\n",
    "best_model_name = max(results, key=lambda x: results[x]['f1 score'])\n",
    "best_model = models[best_model_name]\n",
    "y_pred = best_model.predict(X_test)\n",
    "cm = confusion_matrix(y_test, y_pred)\n",
    "sns.heatmap(cm, annot=True, fmt='d', cmap='Blues')\n",
    "plt.xlabel('Predicted')\n",
    "plt.ylabel('Actual')\n",
    "plt.title(f'Confusion Matrix - {best_model_name}')\n",
    "plt.show()"
   ]
  },
  {
   "cell_type": "code",
   "execution_count": 29,
   "id": "26d81acd",
   "metadata": {
    "execution": {
     "iopub.execute_input": "2025-04-07T19:10:16.029846Z",
     "iopub.status.busy": "2025-04-07T19:10:16.029435Z",
     "iopub.status.idle": "2025-04-07T19:10:16.053824Z",
     "shell.execute_reply": "2025-04-07T19:10:16.052837Z"
    },
    "papermill": {
     "duration": 0.039917,
     "end_time": "2025-04-07T19:10:16.055512",
     "exception": false,
     "start_time": "2025-04-07T19:10:16.015595",
     "status": "completed"
    },
    "tags": []
   },
   "outputs": [
    {
     "data": {
      "text/html": [
       "<div>\n",
       "<style scoped>\n",
       "    .dataframe tbody tr th:only-of-type {\n",
       "        vertical-align: middle;\n",
       "    }\n",
       "\n",
       "    .dataframe tbody tr th {\n",
       "        vertical-align: top;\n",
       "    }\n",
       "\n",
       "    .dataframe thead th {\n",
       "        text-align: right;\n",
       "    }\n",
       "</style>\n",
       "<table border=\"1\" class=\"dataframe\">\n",
       "  <thead>\n",
       "    <tr style=\"text-align: right;\">\n",
       "      <th></th>\n",
       "      <th>Age</th>\n",
       "      <th>Gender</th>\n",
       "      <th>spotify_usage_period</th>\n",
       "      <th>spotify_listening_device</th>\n",
       "      <th>spotify_subscription_plan</th>\n",
       "      <th>premium_sub_willingness</th>\n",
       "      <th>preffered_premium_plan</th>\n",
       "      <th>preferred_listening_content</th>\n",
       "      <th>fav_music_genre</th>\n",
       "      <th>music_time_slot</th>\n",
       "      <th>music_Influencial_mood</th>\n",
       "      <th>music_lis_frequency</th>\n",
       "      <th>music_expl_method</th>\n",
       "      <th>music_recc_rating</th>\n",
       "      <th>pod_lis_frequency</th>\n",
       "      <th>fav_pod_genre</th>\n",
       "      <th>preffered_pod_format</th>\n",
       "      <th>pod_host_preference</th>\n",
       "      <th>preffered_pod_duration</th>\n",
       "      <th>pod_variety_satisfaction</th>\n",
       "    </tr>\n",
       "  </thead>\n",
       "  <tbody>\n",
       "    <tr>\n",
       "      <th>0</th>\n",
       "      <td>1</td>\n",
       "      <td>0</td>\n",
       "      <td>3</td>\n",
       "      <td>4</td>\n",
       "      <td>0</td>\n",
       "      <td>1</td>\n",
       "      <td>1</td>\n",
       "      <td>1</td>\n",
       "      <td>2</td>\n",
       "      <td>2</td>\n",
       "      <td>8</td>\n",
       "      <td>25</td>\n",
       "      <td>3</td>\n",
       "      <td>3</td>\n",
       "      <td>0</td>\n",
       "      <td>0</td>\n",
       "      <td>2</td>\n",
       "      <td>0</td>\n",
       "      <td>0</td>\n",
       "      <td>1</td>\n",
       "    </tr>\n",
       "    <tr>\n",
       "      <th>8</th>\n",
       "      <td>1</td>\n",
       "      <td>0</td>\n",
       "      <td>2</td>\n",
       "      <td>6</td>\n",
       "      <td>0</td>\n",
       "      <td>1</td>\n",
       "      <td>2</td>\n",
       "      <td>0</td>\n",
       "      <td>2</td>\n",
       "      <td>0</td>\n",
       "      <td>4</td>\n",
       "      <td>22</td>\n",
       "      <td>5</td>\n",
       "      <td>4</td>\n",
       "      <td>3</td>\n",
       "      <td>0</td>\n",
       "      <td>3</td>\n",
       "      <td>1</td>\n",
       "      <td>2</td>\n",
       "      <td>2</td>\n",
       "    </tr>\n",
       "    <tr>\n",
       "      <th>16</th>\n",
       "      <td>1</td>\n",
       "      <td>0</td>\n",
       "      <td>2</td>\n",
       "      <td>6</td>\n",
       "      <td>0</td>\n",
       "      <td>1</td>\n",
       "      <td>2</td>\n",
       "      <td>0</td>\n",
       "      <td>2</td>\n",
       "      <td>0</td>\n",
       "      <td>0</td>\n",
       "      <td>22</td>\n",
       "      <td>5</td>\n",
       "      <td>1</td>\n",
       "      <td>0</td>\n",
       "      <td>0</td>\n",
       "      <td>1</td>\n",
       "      <td>1</td>\n",
       "      <td>1</td>\n",
       "      <td>2</td>\n",
       "    </tr>\n",
       "    <tr>\n",
       "      <th>23</th>\n",
       "      <td>1</td>\n",
       "      <td>0</td>\n",
       "      <td>3</td>\n",
       "      <td>8</td>\n",
       "      <td>1</td>\n",
       "      <td>1</td>\n",
       "      <td>2</td>\n",
       "      <td>0</td>\n",
       "      <td>6</td>\n",
       "      <td>2</td>\n",
       "      <td>6</td>\n",
       "      <td>20</td>\n",
       "      <td>14</td>\n",
       "      <td>1</td>\n",
       "      <td>3</td>\n",
       "      <td>0</td>\n",
       "      <td>2</td>\n",
       "      <td>0</td>\n",
       "      <td>2</td>\n",
       "      <td>4</td>\n",
       "    </tr>\n",
       "    <tr>\n",
       "      <th>24</th>\n",
       "      <td>1</td>\n",
       "      <td>1</td>\n",
       "      <td>3</td>\n",
       "      <td>7</td>\n",
       "      <td>1</td>\n",
       "      <td>1</td>\n",
       "      <td>1</td>\n",
       "      <td>0</td>\n",
       "      <td>5</td>\n",
       "      <td>2</td>\n",
       "      <td>1</td>\n",
       "      <td>11</td>\n",
       "      <td>16</td>\n",
       "      <td>3</td>\n",
       "      <td>3</td>\n",
       "      <td>7</td>\n",
       "      <td>0</td>\n",
       "      <td>0</td>\n",
       "      <td>0</td>\n",
       "      <td>1</td>\n",
       "    </tr>\n",
       "  </tbody>\n",
       "</table>\n",
       "</div>"
      ],
      "text/plain": [
       "    Age  Gender  spotify_usage_period  spotify_listening_device  \\\n",
       "0     1       0                     3                         4   \n",
       "8     1       0                     2                         6   \n",
       "16    1       0                     2                         6   \n",
       "23    1       0                     3                         8   \n",
       "24    1       1                     3                         7   \n",
       "\n",
       "    spotify_subscription_plan  premium_sub_willingness  \\\n",
       "0                           0                        1   \n",
       "8                           0                        1   \n",
       "16                          0                        1   \n",
       "23                          1                        1   \n",
       "24                          1                        1   \n",
       "\n",
       "    preffered_premium_plan  preferred_listening_content  fav_music_genre  \\\n",
       "0                        1                            1                2   \n",
       "8                        2                            0                2   \n",
       "16                       2                            0                2   \n",
       "23                       2                            0                6   \n",
       "24                       1                            0                5   \n",
       "\n",
       "    music_time_slot  music_Influencial_mood  music_lis_frequency  \\\n",
       "0                 2                       8                   25   \n",
       "8                 0                       4                   22   \n",
       "16                0                       0                   22   \n",
       "23                2                       6                   20   \n",
       "24                2                       1                   11   \n",
       "\n",
       "    music_expl_method  music_recc_rating  pod_lis_frequency  fav_pod_genre  \\\n",
       "0                   3                  3                  0              0   \n",
       "8                   5                  4                  3              0   \n",
       "16                  5                  1                  0              0   \n",
       "23                 14                  1                  3              0   \n",
       "24                 16                  3                  3              7   \n",
       "\n",
       "    preffered_pod_format  pod_host_preference  preffered_pod_duration  \\\n",
       "0                      2                    0                       0   \n",
       "8                      3                    1                       2   \n",
       "16                     1                    1                       1   \n",
       "23                     2                    0                       2   \n",
       "24                     0                    0                       0   \n",
       "\n",
       "    pod_variety_satisfaction  \n",
       "0                          1  \n",
       "8                          2  \n",
       "16                         2  \n",
       "23                         4  \n",
       "24                         1  "
      ]
     },
     "execution_count": 29,
     "metadata": {},
     "output_type": "execute_result"
    }
   ],
   "source": [
    "# Drop rows with missing values (optional, depending on tolerance)\n",
    "df = df.dropna()\n",
    "\n",
    "# Encode all categorical columns\n",
    "from sklearn.preprocessing import LabelEncoder\n",
    "\n",
    "for col in df.columns:\n",
    "    if df[col].dtype == 'object':\n",
    "        df[col] = LabelEncoder().fit_transform(df[col])\n",
    "\n",
    "df.head()\n"
   ]
  },
  {
   "cell_type": "code",
   "execution_count": 30,
   "id": "7c1a6d7a",
   "metadata": {
    "execution": {
     "iopub.execute_input": "2025-04-07T19:10:16.082407Z",
     "iopub.status.busy": "2025-04-07T19:10:16.082024Z",
     "iopub.status.idle": "2025-04-07T19:10:16.101233Z",
     "shell.execute_reply": "2025-04-07T19:10:16.100199Z"
    },
    "papermill": {
     "duration": 0.034593,
     "end_time": "2025-04-07T19:10:16.102918",
     "exception": false,
     "start_time": "2025-04-07T19:10:16.068325",
     "status": "completed"
    },
    "tags": []
   },
   "outputs": [
    {
     "data": {
      "text/plain": [
       "churn\n",
       "0    143\n",
       "1     81\n",
       "Name: count, dtype: int64"
      ]
     },
     "execution_count": 30,
     "metadata": {},
     "output_type": "execute_result"
    }
   ],
   "source": [
    "# Define churn: Not willing to pay = churned\n",
    "df['churn'] = df['premium_sub_willingness'].apply(lambda x: 1 if x == 0 else 0)\n",
    "\n",
    "df['churn'].value_counts()\n",
    "\n",
    "# Define churn: Not willing to pay = churned\n",
    "df['churn'] = df['premium_sub_willingness'].apply(lambda x: 1 if x == 0 else 0)\n",
    "\n",
    "df['churn'].value_counts()\n"
   ]
  },
  {
   "cell_type": "code",
   "execution_count": 31,
   "id": "920a555e",
   "metadata": {
    "execution": {
     "iopub.execute_input": "2025-04-07T19:10:16.129036Z",
     "iopub.status.busy": "2025-04-07T19:10:16.128683Z",
     "iopub.status.idle": "2025-04-07T19:10:16.598192Z",
     "shell.execute_reply": "2025-04-07T19:10:16.597051Z"
    },
    "papermill": {
     "duration": 0.484671,
     "end_time": "2025-04-07T19:10:16.600126",
     "exception": false,
     "start_time": "2025-04-07T19:10:16.115455",
     "status": "completed"
    },
    "tags": []
   },
   "outputs": [
    {
     "name": "stderr",
     "output_type": "stream",
     "text": [
      "/usr/local/lib/python3.10/dist-packages/sklearn/cluster/_kmeans.py:870: FutureWarning: The default value of `n_init` will change from 10 to 'auto' in 1.4. Set the value of `n_init` explicitly to suppress the warning\n",
      "  warnings.warn(\n"
     ]
    },
    {
     "data": {
      "image/png": "[encoded data removed]",
      "text/plain": [
       "<Figure size 640x480 with 1 Axes>"
      ]
     },
     "metadata": {},
     "output_type": "display_data"
    }
   ],
   "source": [
    "from sklearn.preprocessing import StandardScaler\n",
    "from sklearn.cluster import KMeans\n",
    "import seaborn as sns\n",
    "import matplotlib.pyplot as plt\n",
    "\n",
    "features = ['spotify_usage_period', 'spotify_listening_device', 'music_lis_frequency',\n",
    "            'fav_music_genre', 'pod_lis_frequency', 'music_time_slot']\n",
    "\n",
    "scaler = StandardScaler()\n",
    "scaled = scaler.fit_transform(df[features])\n",
    "\n",
    "kmeans = KMeans(n_clusters=3, random_state=42)\n",
    "df['cluster'] = kmeans.fit_predict(scaled)\n",
    "\n",
    "# Plot clusters\n",
    "sns.scatterplot(x=scaled[:, 0], y=scaled[:, 1], hue=df['cluster'])\n",
    "plt.title(\"User Clusters Based on Listening Patterns\")\n",
    "plt.show()\n"
   ]
  },
  {
   "cell_type": "code",
   "execution_count": 32,
   "id": "799c91d1",
   "metadata": {
    "execution": {
     "iopub.execute_input": "2025-04-07T19:10:16.629023Z",
     "iopub.status.busy": "2025-04-07T19:10:16.628672Z",
     "iopub.status.idle": "2025-04-07T19:10:16.811269Z",
     "shell.execute_reply": "2025-04-07T19:10:16.809891Z"
    },
    "papermill": {
     "duration": 0.199107,
     "end_time": "2025-04-07T19:10:16.813154",
     "exception": false,
     "start_time": "2025-04-07T19:10:16.614047",
     "status": "completed"
    },
    "tags": []
   },
   "outputs": [
    {
     "name": "stdout",
     "output_type": "stream",
     "text": [
      "Confusion Matrix:\n",
      "[[24  6]\n",
      " [11  4]]\n",
      "\n",
      "Classification Report:\n",
      "              precision    recall  f1-score   support\n",
      "\n",
      "           0       0.69      0.80      0.74        30\n",
      "           1       0.40      0.27      0.32        15\n",
      "\n",
      "    accuracy                           0.62        45\n",
      "   macro avg       0.54      0.53      0.53        45\n",
      "weighted avg       0.59      0.62      0.60        45\n",
      "\n"
     ]
    }
   ],
   "source": [
    "from sklearn.ensemble import RandomForestClassifier\n",
    "from sklearn.model_selection import train_test_split\n",
    "from sklearn.metrics import classification_report, confusion_matrix\n",
    "\n",
    "# Features for prediction\n",
    "predictor_features = ['spotify_usage_period', 'spotify_listening_device', 'music_lis_frequency',\n",
    "                      'fav_music_genre', 'pod_lis_frequency', 'music_time_slot', 'cluster']\n",
    "\n",
    "X = df[predictor_features]\n",
    "y = df['churn']\n",
    "\n",
    "# Train-test split\n",
    "X_train, X_test, y_train, y_test = train_test_split(X, y, test_size=0.2, random_state=42)\n",
    "\n",
    "# Train the model\n",
    "clf = RandomForestClassifier(n_estimators=100, random_state=42)\n",
    "clf.fit(X_train, y_train)\n",
    "\n",
    "# Predict\n",
    "y_pred = clf.predict(X_test)\n",
    "\n",
    "# Evaluate\n",
    "print(\"Confusion Matrix:\")\n",
    "print(confusion_matrix(y_test, y_pred))\n",
    "\n",
    "print(\"\\nClassification Report:\")\n",
    "print(classification_report(y_test, y_pred))\n"
   ]
  },
  {
   "cell_type": "code",
   "execution_count": 33,
   "id": "4a6449cf",
   "metadata": {
    "execution": {
     "iopub.execute_input": "2025-04-07T19:10:16.840861Z",
     "iopub.status.busy": "2025-04-07T19:10:16.840513Z",
     "iopub.status.idle": "2025-04-07T19:10:16.848965Z",
     "shell.execute_reply": "2025-04-07T19:10:16.847708Z"
    },
    "papermill": {
     "duration": 0.024137,
     "end_time": "2025-04-07T19:10:16.850562",
     "exception": false,
     "start_time": "2025-04-07T19:10:16.826425",
     "status": "completed"
    },
    "tags": []
   },
   "outputs": [
    {
     "name": "stdout",
     "output_type": "stream",
     "text": [
      "Simulated Monthly Revenue from Retained Users: ₹19357\n"
     ]
    }
   ],
   "source": [
    "# Assign price per cluster\n",
    "def price_plan(cluster):\n",
    "    if cluster == 0:\n",
    "        return 179\n",
    "    elif cluster == 1:\n",
    "        return 119\n",
    "    else:\n",
    "        return 59\n",
    "\n",
    "df['price'] = df['cluster'].apply(price_plan)\n",
    "\n",
    "# Revenue from retained (non-churned) users\n",
    "retained = df[df['churn'] == 0]\n",
    "monthly_revenue = retained['price'].sum()\n",
    "\n",
    "print(f\"Simulated Monthly Revenue from Retained Users: ₹{monthly_revenue}\")\n"
   ]
  },
  {
   "cell_type": "code",
   "execution_count": null,
   "id": "de9f134e",
   "metadata": {
    "papermill": {
     "duration": 0.013253,
     "end_time": "2025-04-07T19:10:16.877380",
     "exception": false,
     "start_time": "2025-04-07T19:10:16.864127",
     "status": "completed"
    },
    "tags": []
   },
   "outputs": [],
   "source": []
  }
 ],
 "metadata": {
  "kaggle": {
   "accelerator": "none",
   "dataSources": [
    {
     "datasetId": 3486076,
     "sourceId": 6087931,
     "sourceType": "datasetVersion"
    }
   ],
   "dockerImageVersionId": 30886,
   "isGpuEnabled": false,
   "isInternetEnabled": true,
   "language": "python",
   "sourceType": "notebook"
  },
  "kernelspec": {
   "display_name": "Python 3",
   "language": "python",
   "name": "python3"
  },
  "language_info": {
   "codemirror_mode": {
    "name": "ipython",
    "version": 3
   },
   "file_extension": ".py",
   "mimetype": "text/x-python",
   "name": "python",
   "nbconvert_exporter": "python",
   "pygments_lexer": "ipython3",
   "version": "3.10.12"
  },
  "papermill": {
   "default_parameters": {},
   "duration": 11.38934,
   "end_time": "2025-04-07T19:10:17.710735",
   "environment_variables": {},
   "exception": null,
   "input_path": "__notebook__.ipynb",
   "output_path": "__notebook__.ipynb",
   "parameters": {},
   "start_time": "2025-04-07T19:10:06.321395",
   "version": "2.6.0"
  }
 },
 "nbformat": 4,
 "nbformat_minor": 5
}
